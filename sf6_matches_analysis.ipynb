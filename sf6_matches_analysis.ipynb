{
 "cells": [
  {
   "cell_type": "markdown",
   "id": "50de4356",
   "metadata": {},
   "source": [
    "# Example of match data analysis"
   ]
  },
  {
   "cell_type": "code",
   "execution_count": 1,
   "id": "dce3e3f9",
   "metadata": {},
   "outputs": [],
   "source": [
    "import pandas as pd\n",
    "import matplotlib.pyplot as plt\n",
    "\n",
    "from sf6_match_collection import scrapp_sf6_matches\n",
    "\n",
    "pd.set_option('display.max_columns', None)\n",
    "pd.set_option('display.max_rows', None)"
   ]
  },
  {
   "cell_type": "code",
   "execution_count": null,
   "id": "fa478eed",
   "metadata": {},
   "outputs": [
    {
     "name": "stdout",
     "output_type": "stream",
     "text": [
      "This script will save on 'player_1572500566_sf6_matches.xlsx' file. Make sure it is closed and press ENTER to proceed.\n",
      "\n",
      "Fetching the last 100 matches...\n"
     ]
    },
    {
     "name": "stderr",
     "output_type": "stream",
     "text": [
      " 50%|█████     | 5/10 [00:04<00:04,  1.13it/s]"
     ]
    }
   ],
   "source": [
    "PLAYER_SID = 1572500566 # MDZ_Jimmy\n",
    "# PLAYER_SID: int = 3570388222 # Broski\n",
    "\n",
    "scrapp_sf6_matches(PLAYER_SID)"
   ]
  },
  {
   "cell_type": "code",
   "execution_count": null,
   "id": "9d498181",
   "metadata": {},
   "outputs": [],
   "source": [
    "file_name = f\"player_{PLAYER_SID}_sf6_matches.xlsx\""
   ]
  },
  {
   "cell_type": "code",
   "execution_count": null,
   "id": "6a471bbc",
   "metadata": {},
   "outputs": [],
   "source": [
    "data = pd.read_excel(file_name)\n",
    "data[\"left_side\"] = data[\"left_side\"].map({0: \"Right side\", 1: \"Left Side\"})\n",
    "\n",
    "last_day = str(data[\"uploaded_at\"].max().date())\n",
    "\n",
    "df_last_session = data[data[\"uploaded_at\"].map(lambda d: str(d.date()) == last_day)]\n",
    "data.head(n=5)"
   ]
  },
  {
   "cell_type": "code",
   "execution_count": null,
   "id": "6549d4f7",
   "metadata": {},
   "outputs": [],
   "source": [
    "def match_reports(df):\n",
    "    \n",
    "    sep = \"\\n\" + 20 * \"-\" + \"\\n\"\n",
    "    \n",
    "    print(\"Number of matches:\", len(df), end=sep)\n",
    "    \n",
    "    pie_chart_format_high = lambda x: f\"{round(x / 100 * len(df))}\"\n",
    "    pie_chart_format_low = lambda x: f\"{round(x / 100 * len(df))} ({round(x, 2)} %)\"\n",
    "    \n",
    "    \n",
    "    \n",
    "    for col in [\"match_won\", \"replay_battle_type_name\", \"opposite_player_character\", \"left_side\"]:\n",
    "        pie_chart_format = pie_chart_format_high if col == \"opposite_player_character\" else pie_chart_format_low\n",
    "        plt.figure()\n",
    "        df[col].value_counts().plot.pie(\n",
    "            autopct=pie_chart_format,\n",
    "            figsize=(8, 6)\n",
    "        )\n",
    "        plt.title(col)\n",
    "        plt.ylabel(None)\n",
    "        \n",
    "    print(\"% of match won\", round(df[\"match_won\"].mean() * 100, 2), \"%\", end=sep)\n",
    "    print(df[[\"left_side\", \"match_won\"]].groupby(\"left_side\").mean(), end=sep)\n",
    "    print(df[[\"opposite_player_character\", \"match_won\"]].groupby(\"opposite_player_character\").mean(), end=sep)\n",
    "    \n",
    "    print(\"Highest MR\", df['main_player_mr'].max(), end=sep)\n",
    "    print(\"Highest World Ranking\", df['main_player_mr_ranking'].min(), end=sep)\n",
    "\n",
    "    highest_winstreak = max(len(seq) for seq in \"\".join(df[\"match_won\"].map(str)).split(\"0\"))\n",
    "\n",
    "    print(\"Highest winstreak (assuming no gap in match saved):\", highest_winstreak, end=sep)\n",
    "    \n",
    "    df_ranked = df[df[\"replay_battle_type_name\"] == \"Ranked Match\"]\n",
    "\n",
    "    plt.figure(figsize=(8, 6))\n",
    "\n",
    "    plt.plot(df_ranked[\"main_player_mr\"], label=\"Main Player MR\")\n",
    "    plt.plot(df_ranked[\"opposite_player_mr\"], label=\"Opposite Player MR\")\n",
    "\n",
    "    plt.grid(True)\n",
    "    plt.legend()\n",
    "    plt.xlabel(\"Match\")\n",
    "    plt.ylabel(\"MR\")\n",
    "    plt.title(\"Ranked matches MR Evolution\")"
   ]
  },
  {
   "cell_type": "markdown",
   "id": "11df11c3",
   "metadata": {},
   "source": [
    "## Latest session stats"
   ]
  },
  {
   "cell_type": "code",
   "execution_count": null,
   "id": "3f07dfde",
   "metadata": {},
   "outputs": [],
   "source": [
    "match_reports(df_last_session)"
   ]
  },
  {
   "cell_type": "markdown",
   "id": "6e5c772e",
   "metadata": {},
   "source": [
    "## Total matches stats"
   ]
  },
  {
   "cell_type": "code",
   "execution_count": null,
   "id": "6b58b77f",
   "metadata": {},
   "outputs": [],
   "source": [
    "match_reports(data)"
   ]
  },
  {
   "cell_type": "code",
   "execution_count": null,
   "id": "ffa3d8ad",
   "metadata": {},
   "outputs": [],
   "source": []
  }
 ],
 "metadata": {
  "kernelspec": {
   "display_name": "Python 3 (ipykernel)",
   "language": "python",
   "name": "python3"
  },
  "language_info": {
   "codemirror_mode": {
    "name": "ipython",
    "version": 3
   },
   "file_extension": ".py",
   "mimetype": "text/x-python",
   "name": "python",
   "nbconvert_exporter": "python",
   "pygments_lexer": "ipython3",
   "version": "3.8.12"
  }
 },
 "nbformat": 4,
 "nbformat_minor": 5
}
