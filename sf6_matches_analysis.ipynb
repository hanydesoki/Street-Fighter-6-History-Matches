{
 "cells": [
  {
   "cell_type": "markdown",
   "id": "50de4356",
   "metadata": {},
   "source": [
    "# Example of match data analysis"
   ]
  },
  {
   "cell_type": "code",
   "execution_count": 1,
   "id": "dce3e3f9",
   "metadata": {},
   "outputs": [],
   "source": [
    "import pandas as pd\n",
    "import matplotlib.pyplot as plt\n",
    "\n",
    "pd.set_option('display.max_columns', None)\n",
    "pd.set_option('display.max_rows', None)"
   ]
  },
  {
   "cell_type": "code",
   "execution_count": 2,
   "id": "9d498181",
   "metadata": {},
   "outputs": [],
   "source": [
    "PLAYER_SID = 1572500566 # MDZ_Jimmy\n",
    "\n",
    "file_name = f\"player_{PLAYER_SID}_sf6_matches.xlsx\""
   ]
  },
  {
   "cell_type": "code",
   "execution_count": 3,
   "id": "6a471bbc",
   "metadata": {},
   "outputs": [
    {
     "name": "stdout",
     "output_type": "stream",
     "text": [
      "100 matches\n"
     ]
    },
    {
     "data": {
      "text/html": [
       "<div>\n",
       "<style scoped>\n",
       "    .dataframe tbody tr th:only-of-type {\n",
       "        vertical-align: middle;\n",
       "    }\n",
       "\n",
       "    .dataframe tbody tr th {\n",
       "        vertical-align: top;\n",
       "    }\n",
       "\n",
       "    .dataframe thead th {\n",
       "        text-align: right;\n",
       "    }\n",
       "</style>\n",
       "<table border=\"1\" class=\"dataframe\">\n",
       "  <thead>\n",
       "    <tr style=\"text-align: right;\">\n",
       "      <th></th>\n",
       "      <th>main_player_name</th>\n",
       "      <th>main_player_sid</th>\n",
       "      <th>main_player_character</th>\n",
       "      <th>main_player_score</th>\n",
       "      <th>main_player_league_rank</th>\n",
       "      <th>main_player_lp</th>\n",
       "      <th>main_player_mr</th>\n",
       "      <th>main_player_mr_ranking</th>\n",
       "      <th>main_player_input_type</th>\n",
       "      <th>main_player_platform</th>\n",
       "      <th>opposite_player_name</th>\n",
       "      <th>opposite_player_sid</th>\n",
       "      <th>opposite_player_character</th>\n",
       "      <th>opposite_player_score</th>\n",
       "      <th>opposite_player_league_rank</th>\n",
       "      <th>opposite_player_lp</th>\n",
       "      <th>opposite_player_mr</th>\n",
       "      <th>opposite_player_mr_ranking</th>\n",
       "      <th>opposite_player_input_type</th>\n",
       "      <th>opposite_player_platform</th>\n",
       "      <th>match_won</th>\n",
       "      <th>left_side</th>\n",
       "      <th>uploaded_at</th>\n",
       "      <th>replay_id</th>\n",
       "      <th>replay_battle_type_name</th>\n",
       "    </tr>\n",
       "  </thead>\n",
       "  <tbody>\n",
       "    <tr>\n",
       "      <th>0</th>\n",
       "      <td>MDZ_jimmY</td>\n",
       "      <td>1572500566</td>\n",
       "      <td>Ryu</td>\n",
       "      <td>2</td>\n",
       "      <td>36</td>\n",
       "      <td>378123</td>\n",
       "      <td>1736</td>\n",
       "      <td>3508</td>\n",
       "      <td>0</td>\n",
       "      <td>Steam</td>\n",
       "      <td>dodidor</td>\n",
       "      <td>1041718095</td>\n",
       "      <td>Mai</td>\n",
       "      <td>0</td>\n",
       "      <td>36</td>\n",
       "      <td>49293</td>\n",
       "      <td>1705</td>\n",
       "      <td>3508</td>\n",
       "      <td>0</td>\n",
       "      <td>Steam</td>\n",
       "      <td>1</td>\n",
       "      <td>1</td>\n",
       "      <td>2025-02-16 18:39:35</td>\n",
       "      <td>SDBXU4QT5</td>\n",
       "      <td>Ranked Match</td>\n",
       "    </tr>\n",
       "    <tr>\n",
       "      <th>1</th>\n",
       "      <td>MDZ_jimmY</td>\n",
       "      <td>1572500566</td>\n",
       "      <td>Ryu</td>\n",
       "      <td>0</td>\n",
       "      <td>36</td>\n",
       "      <td>378163</td>\n",
       "      <td>1744</td>\n",
       "      <td>3210</td>\n",
       "      <td>0</td>\n",
       "      <td>Steam</td>\n",
       "      <td>Yamcher</td>\n",
       "      <td>2583439323</td>\n",
       "      <td>Manon</td>\n",
       "      <td>2</td>\n",
       "      <td>36</td>\n",
       "      <td>387278</td>\n",
       "      <td>1750</td>\n",
       "      <td>3210</td>\n",
       "      <td>0</td>\n",
       "      <td>Steam</td>\n",
       "      <td>0</td>\n",
       "      <td>0</td>\n",
       "      <td>2025-02-16 18:37:06</td>\n",
       "      <td>SBRHXFD5N</td>\n",
       "      <td>Ranked Match</td>\n",
       "    </tr>\n",
       "    <tr>\n",
       "      <th>2</th>\n",
       "      <td>MDZ_jimmY</td>\n",
       "      <td>1572500566</td>\n",
       "      <td>Ryu</td>\n",
       "      <td>1</td>\n",
       "      <td>36</td>\n",
       "      <td>378203</td>\n",
       "      <td>1752</td>\n",
       "      <td>2902</td>\n",
       "      <td>0</td>\n",
       "      <td>Steam</td>\n",
       "      <td>Yamcher</td>\n",
       "      <td>2583439323</td>\n",
       "      <td>Manon</td>\n",
       "      <td>2</td>\n",
       "      <td>36</td>\n",
       "      <td>387228</td>\n",
       "      <td>1742</td>\n",
       "      <td>2902</td>\n",
       "      <td>0</td>\n",
       "      <td>Steam</td>\n",
       "      <td>0</td>\n",
       "      <td>0</td>\n",
       "      <td>2025-02-16 18:35:28</td>\n",
       "      <td>7GV7MC7AE</td>\n",
       "      <td>Ranked Match</td>\n",
       "    </tr>\n",
       "    <tr>\n",
       "      <th>3</th>\n",
       "      <td>MDZ_jimmY</td>\n",
       "      <td>1572500566</td>\n",
       "      <td>Ryu</td>\n",
       "      <td>0</td>\n",
       "      <td>36</td>\n",
       "      <td>378243</td>\n",
       "      <td>1758</td>\n",
       "      <td>2665</td>\n",
       "      <td>0</td>\n",
       "      <td>Steam</td>\n",
       "      <td>bruhnte_</td>\n",
       "      <td>1750187910</td>\n",
       "      <td>A.K.I.</td>\n",
       "      <td>2</td>\n",
       "      <td>36</td>\n",
       "      <td>450141</td>\n",
       "      <td>1850</td>\n",
       "      <td>2665</td>\n",
       "      <td>0</td>\n",
       "      <td>Steam</td>\n",
       "      <td>0</td>\n",
       "      <td>0</td>\n",
       "      <td>2025-02-16 18:32:25</td>\n",
       "      <td>K6STWC3QV</td>\n",
       "      <td>Ranked Match</td>\n",
       "    </tr>\n",
       "    <tr>\n",
       "      <th>4</th>\n",
       "      <td>MDZ_jimmY</td>\n",
       "      <td>1572500566</td>\n",
       "      <td>Ryu</td>\n",
       "      <td>1</td>\n",
       "      <td>36</td>\n",
       "      <td>378283</td>\n",
       "      <td>1764</td>\n",
       "      <td>2479</td>\n",
       "      <td>0</td>\n",
       "      <td>Steam</td>\n",
       "      <td>bruhnte_</td>\n",
       "      <td>1750187910</td>\n",
       "      <td>A.K.I.</td>\n",
       "      <td>2</td>\n",
       "      <td>36</td>\n",
       "      <td>450091</td>\n",
       "      <td>1844</td>\n",
       "      <td>2479</td>\n",
       "      <td>0</td>\n",
       "      <td>Steam</td>\n",
       "      <td>0</td>\n",
       "      <td>0</td>\n",
       "      <td>2025-02-16 18:30:55</td>\n",
       "      <td>JGN7M35WV</td>\n",
       "      <td>Ranked Match</td>\n",
       "    </tr>\n",
       "  </tbody>\n",
       "</table>\n",
       "</div>"
      ],
      "text/plain": [
       "  main_player_name  main_player_sid main_player_character  main_player_score  \\\n",
       "0        MDZ_jimmY       1572500566                   Ryu                  2   \n",
       "1        MDZ_jimmY       1572500566                   Ryu                  0   \n",
       "2        MDZ_jimmY       1572500566                   Ryu                  1   \n",
       "3        MDZ_jimmY       1572500566                   Ryu                  0   \n",
       "4        MDZ_jimmY       1572500566                   Ryu                  1   \n",
       "\n",
       "   main_player_league_rank  main_player_lp  main_player_mr  \\\n",
       "0                       36          378123            1736   \n",
       "1                       36          378163            1744   \n",
       "2                       36          378203            1752   \n",
       "3                       36          378243            1758   \n",
       "4                       36          378283            1764   \n",
       "\n",
       "   main_player_mr_ranking  main_player_input_type main_player_platform  \\\n",
       "0                    3508                       0                Steam   \n",
       "1                    3210                       0                Steam   \n",
       "2                    2902                       0                Steam   \n",
       "3                    2665                       0                Steam   \n",
       "4                    2479                       0                Steam   \n",
       "\n",
       "  opposite_player_name  opposite_player_sid opposite_player_character  \\\n",
       "0              dodidor           1041718095                       Mai   \n",
       "1              Yamcher           2583439323                     Manon   \n",
       "2              Yamcher           2583439323                     Manon   \n",
       "3             bruhnte_           1750187910                    A.K.I.   \n",
       "4             bruhnte_           1750187910                    A.K.I.   \n",
       "\n",
       "   opposite_player_score  opposite_player_league_rank  opposite_player_lp  \\\n",
       "0                      0                           36               49293   \n",
       "1                      2                           36              387278   \n",
       "2                      2                           36              387228   \n",
       "3                      2                           36              450141   \n",
       "4                      2                           36              450091   \n",
       "\n",
       "   opposite_player_mr  opposite_player_mr_ranking  opposite_player_input_type  \\\n",
       "0                1705                        3508                           0   \n",
       "1                1750                        3210                           0   \n",
       "2                1742                        2902                           0   \n",
       "3                1850                        2665                           0   \n",
       "4                1844                        2479                           0   \n",
       "\n",
       "  opposite_player_platform  match_won  left_side         uploaded_at  \\\n",
       "0                    Steam          1          1 2025-02-16 18:39:35   \n",
       "1                    Steam          0          0 2025-02-16 18:37:06   \n",
       "2                    Steam          0          0 2025-02-16 18:35:28   \n",
       "3                    Steam          0          0 2025-02-16 18:32:25   \n",
       "4                    Steam          0          0 2025-02-16 18:30:55   \n",
       "\n",
       "   replay_id replay_battle_type_name  \n",
       "0  SDBXU4QT5            Ranked Match  \n",
       "1  SBRHXFD5N            Ranked Match  \n",
       "2  7GV7MC7AE            Ranked Match  \n",
       "3  K6STWC3QV            Ranked Match  \n",
       "4  JGN7M35WV            Ranked Match  "
      ]
     },
     "execution_count": 3,
     "metadata": {},
     "output_type": "execute_result"
    }
   ],
   "source": [
    "df = pd.read_excel(file_name)\n",
    "print(f\"{len(df)} matches\")\n",
    "df.head(n=5)"
   ]
  },
  {
   "cell_type": "markdown",
   "id": "33e8f8be",
   "metadata": {},
   "source": [
    "### Match repartitions"
   ]
  },
  {
   "cell_type": "code",
   "execution_count": 4,
   "id": "4b5b2247",
   "metadata": {},
   "outputs": [],
   "source": [
    "df[\"left_side\"] = df[\"left_side\"].map({0: \"Right side\", 1: \"Left Side\"})"
   ]
  },
  {
   "cell_type": "code",
   "execution_count": 5,
   "id": "3a51c1a1",
   "metadata": {},
   "outputs": [
    {
     "data": {
      "image/png": "[encoded data removed]",
      "text/plain": [
       "<Figure size 576x432 with 1 Axes>"
      ]
     },
     "metadata": {},
     "output_type": "display_data"
    },
    {
     "data": {
      "image/png": "[encoded data removed]",
      "text/plain": [
       "<Figure size 576x432 with 1 Axes>"
      ]
     },
     "metadata": {},
     "output_type": "display_data"
    },
    {
     "data": {
      "image/png": "[encoded data removed]",
      "text/plain": [
       "<Figure size 576x432 with 1 Axes>"
      ]
     },
     "metadata": {},
     "output_type": "display_data"
    }
   ],
   "source": [
    "for col in [\"replay_battle_type_name\", \"opposite_player_character\", \"left_side\"]:\n",
    "    plt.figure()\n",
    "    df[col].value_counts().plot.pie(\n",
    "        autopct=lambda x: round(x / 100 * len(df)),\n",
    "        figsize=(8, 6)\n",
    "    )\n",
    "    plt.title(col)\n",
    "    plt.ylabel(None)"
   ]
  },
  {
   "cell_type": "markdown",
   "id": "28c8b307",
   "metadata": {},
   "source": [
    "### Average of match won"
   ]
  },
  {
   "cell_type": "code",
   "execution_count": 6,
   "id": "e143cb93",
   "metadata": {},
   "outputs": [
    {
     "data": {
      "text/plain": [
       "0.53"
      ]
     },
     "execution_count": 6,
     "metadata": {},
     "output_type": "execute_result"
    }
   ],
   "source": [
    "df[\"match_won\"].mean()"
   ]
  },
  {
   "cell_type": "markdown",
   "id": "021f2fc6",
   "metadata": {},
   "source": [
    "### Average of match won depending of player side"
   ]
  },
  {
   "cell_type": "code",
   "execution_count": 7,
   "id": "23da5fff",
   "metadata": {},
   "outputs": [
    {
     "data": {
      "text/html": [
       "<div>\n",
       "<style scoped>\n",
       "    .dataframe tbody tr th:only-of-type {\n",
       "        vertical-align: middle;\n",
       "    }\n",
       "\n",
       "    .dataframe tbody tr th {\n",
       "        vertical-align: top;\n",
       "    }\n",
       "\n",
       "    .dataframe thead th {\n",
       "        text-align: right;\n",
       "    }\n",
       "</style>\n",
       "<table border=\"1\" class=\"dataframe\">\n",
       "  <thead>\n",
       "    <tr style=\"text-align: right;\">\n",
       "      <th></th>\n",
       "      <th>match_won</th>\n",
       "    </tr>\n",
       "    <tr>\n",
       "      <th>left_side</th>\n",
       "      <th></th>\n",
       "    </tr>\n",
       "  </thead>\n",
       "  <tbody>\n",
       "    <tr>\n",
       "      <th>Left Side</th>\n",
       "      <td>0.567568</td>\n",
       "    </tr>\n",
       "    <tr>\n",
       "      <th>Right side</th>\n",
       "      <td>0.507937</td>\n",
       "    </tr>\n",
       "  </tbody>\n",
       "</table>\n",
       "</div>"
      ],
      "text/plain": [
       "            match_won\n",
       "left_side            \n",
       "Left Side    0.567568\n",
       "Right side   0.507937"
      ]
     },
     "execution_count": 7,
     "metadata": {},
     "output_type": "execute_result"
    }
   ],
   "source": [
    "df[[\"left_side\", \"match_won\"]].groupby(\"left_side\").mean()"
   ]
  },
  {
   "cell_type": "markdown",
   "id": "8aecb660",
   "metadata": {},
   "source": [
    "### Average of match won depending of opposite character"
   ]
  },
  {
   "cell_type": "code",
   "execution_count": 8,
   "id": "04567267",
   "metadata": {},
   "outputs": [
    {
     "data": {
      "text/html": [
       "<div>\n",
       "<style scoped>\n",
       "    .dataframe tbody tr th:only-of-type {\n",
       "        vertical-align: middle;\n",
       "    }\n",
       "\n",
       "    .dataframe tbody tr th {\n",
       "        vertical-align: top;\n",
       "    }\n",
       "\n",
       "    .dataframe thead th {\n",
       "        text-align: right;\n",
       "    }\n",
       "</style>\n",
       "<table border=\"1\" class=\"dataframe\">\n",
       "  <thead>\n",
       "    <tr style=\"text-align: right;\">\n",
       "      <th></th>\n",
       "      <th>match_won</th>\n",
       "    </tr>\n",
       "    <tr>\n",
       "      <th>opposite_player_character</th>\n",
       "      <th></th>\n",
       "    </tr>\n",
       "  </thead>\n",
       "  <tbody>\n",
       "    <tr>\n",
       "      <th>A.K.I.</th>\n",
       "      <td>0.000000</td>\n",
       "    </tr>\n",
       "    <tr>\n",
       "      <th>Akuma</th>\n",
       "      <td>0.600000</td>\n",
       "    </tr>\n",
       "    <tr>\n",
       "      <th>Cammy</th>\n",
       "      <td>0.500000</td>\n",
       "    </tr>\n",
       "    <tr>\n",
       "      <th>Chun-Li</th>\n",
       "      <td>1.000000</td>\n",
       "    </tr>\n",
       "    <tr>\n",
       "      <th>Dee Jay</th>\n",
       "      <td>0.333333</td>\n",
       "    </tr>\n",
       "    <tr>\n",
       "      <th>Dhalsim</th>\n",
       "      <td>0.454545</td>\n",
       "    </tr>\n",
       "    <tr>\n",
       "      <th>Ed</th>\n",
       "      <td>0.000000</td>\n",
       "    </tr>\n",
       "    <tr>\n",
       "      <th>Edmond Honda</th>\n",
       "      <td>0.571429</td>\n",
       "    </tr>\n",
       "    <tr>\n",
       "      <th>JP</th>\n",
       "      <td>0.375000</td>\n",
       "    </tr>\n",
       "    <tr>\n",
       "      <th>Jamie</th>\n",
       "      <td>0.500000</td>\n",
       "    </tr>\n",
       "    <tr>\n",
       "      <th>Juri</th>\n",
       "      <td>0.666667</td>\n",
       "    </tr>\n",
       "    <tr>\n",
       "      <th>Ken</th>\n",
       "      <td>0.857143</td>\n",
       "    </tr>\n",
       "    <tr>\n",
       "      <th>Kimberly</th>\n",
       "      <td>0.333333</td>\n",
       "    </tr>\n",
       "    <tr>\n",
       "      <th>Lily</th>\n",
       "      <td>1.000000</td>\n",
       "    </tr>\n",
       "    <tr>\n",
       "      <th>Luke</th>\n",
       "      <td>1.000000</td>\n",
       "    </tr>\n",
       "    <tr>\n",
       "      <th>Mai</th>\n",
       "      <td>1.000000</td>\n",
       "    </tr>\n",
       "    <tr>\n",
       "      <th>Manon</th>\n",
       "      <td>0.000000</td>\n",
       "    </tr>\n",
       "    <tr>\n",
       "      <th>Marisa</th>\n",
       "      <td>0.000000</td>\n",
       "    </tr>\n",
       "    <tr>\n",
       "      <th>Ryu</th>\n",
       "      <td>0.750000</td>\n",
       "    </tr>\n",
       "    <tr>\n",
       "      <th>Terry</th>\n",
       "      <td>0.500000</td>\n",
       "    </tr>\n",
       "    <tr>\n",
       "      <th>Zangief</th>\n",
       "      <td>0.600000</td>\n",
       "    </tr>\n",
       "  </tbody>\n",
       "</table>\n",
       "</div>"
      ],
      "text/plain": [
       "                           match_won\n",
       "opposite_player_character           \n",
       "A.K.I.                      0.000000\n",
       "Akuma                       0.600000\n",
       "Cammy                       0.500000\n",
       "Chun-Li                     1.000000\n",
       "Dee Jay                     0.333333\n",
       "Dhalsim                     0.454545\n",
       "Ed                          0.000000\n",
       "Edmond Honda                0.571429\n",
       "JP                          0.375000\n",
       "Jamie                       0.500000\n",
       "Juri                        0.666667\n",
       "Ken                         0.857143\n",
       "Kimberly                    0.333333\n",
       "Lily                        1.000000\n",
       "Luke                        1.000000\n",
       "Mai                         1.000000\n",
       "Manon                       0.000000\n",
       "Marisa                      0.000000\n",
       "Ryu                         0.750000\n",
       "Terry                       0.500000\n",
       "Zangief                     0.600000"
      ]
     },
     "execution_count": 8,
     "metadata": {},
     "output_type": "execute_result"
    }
   ],
   "source": [
    "df[[\"opposite_player_character\", \"match_won\"]].groupby(\"opposite_player_character\").mean()"
   ]
  },
  {
   "cell_type": "markdown",
   "id": "2439d480",
   "metadata": {},
   "source": [
    "### Highest ratings"
   ]
  },
  {
   "cell_type": "code",
   "execution_count": 9,
   "id": "9505d288",
   "metadata": {},
   "outputs": [
    {
     "name": "stdout",
     "output_type": "stream",
     "text": [
      "Highest MR 1764\n",
      "Highest World Ranking 2297\n",
      "Highest winstreak (assuming no gap in match saved): 8\n"
     ]
    }
   ],
   "source": [
    "print(\"Highest MR\", df['main_player_mr'].max())\n",
    "print(\"Highest World Ranking\", df['main_player_mr_ranking'].min())\n",
    "\n",
    "highest_winstreak = max(len(seq) for seq in \"\".join(df[\"match_won\"].map(str)).split(\"0\"))\n",
    "\n",
    "print(\"Highest winstreak (assuming no gap in match saved):\", highest_winstreak)"
   ]
  },
  {
   "cell_type": "markdown",
   "id": "e3cc5ee2",
   "metadata": {},
   "source": [
    "### Plot ranked match MR evolution"
   ]
  },
  {
   "cell_type": "code",
   "execution_count": 10,
   "id": "d82eef59",
   "metadata": {},
   "outputs": [
    {
     "data": {
      "text/plain": [
       "Text(0.5, 1.0, 'Ranked matches MR Evolution')"
      ]
     },
     "execution_count": 10,
     "metadata": {},
     "output_type": "execute_result"
    },
    {
     "data": {
      "image/png": "[encoded data removed]",
      "text/plain": [
       "<Figure size 576x432 with 1 Axes>"
      ]
     },
     "metadata": {
      "needs_background": "light"
     },
     "output_type": "display_data"
    }
   ],
   "source": [
    "df_ranked = df[df[\"replay_battle_type_name\"] == \"Ranked Match\"]\n",
    "\n",
    "plt.figure(figsize=(8, 6))\n",
    "\n",
    "plt.plot(df_ranked[\"main_player_mr\"], label=\"Main Player MR\")\n",
    "plt.plot(df_ranked[\"opposite_player_mr\"], label=\"Opposite Player MR\")\n",
    "\n",
    "plt.grid(True)\n",
    "plt.legend()\n",
    "plt.xlabel(\"Match\")\n",
    "plt.ylabel(\"MR\")\n",
    "plt.title(\"Ranked matches MR Evolution\")"
   ]
  },
  {
   "cell_type": "code",
   "execution_count": null,
   "id": "6b58b77f",
   "metadata": {},
   "outputs": [],
   "source": []
  }
 ],
 "metadata": {
  "kernelspec": {
   "display_name": "Python 3 (ipykernel)",
   "language": "python",
   "name": "python3"
  },
  "language_info": {
   "codemirror_mode": {
    "name": "ipython",
    "version": 3
   },
   "file_extension": ".py",
   "mimetype": "text/x-python",
   "name": "python",
   "nbconvert_exporter": "python",
   "pygments_lexer": "ipython3",
   "version": "3.8.12"
  }
 },
 "nbformat": 4,
 "nbformat_minor": 5
}
